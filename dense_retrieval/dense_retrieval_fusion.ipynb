{
 "cells": [
  {
   "cell_type": "code",
   "execution_count": 1,
   "metadata": {},
   "outputs": [
    {
     "name": "stderr",
     "output_type": "stream",
     "text": [
      "PyTerrier 0.9.1 has loaded Terrier 5.7 (built by craigm on 2022-11-10 18:30) and terrier-helper 0.0.7\n",
      "\n",
      "No etc/terrier.properties, using terrier.default.properties for bootstrap configuration.\n"
     ]
    }
   ],
   "source": [
    "import pandas as pd \n",
    "\n",
    "import pytrec_eval\n",
    "import pyterrier as pt \n",
    "pt.init()"
   ]
  },
  {
   "cell_type": "code",
   "execution_count": 2,
   "metadata": {},
   "outputs": [
    {
     "data": {
      "text/html": [
       "<div>\n",
       "<style scoped>\n",
       "    .dataframe tbody tr th:only-of-type {\n",
       "        vertical-align: middle;\n",
       "    }\n",
       "\n",
       "    .dataframe tbody tr th {\n",
       "        vertical-align: top;\n",
       "    }\n",
       "\n",
       "    .dataframe thead th {\n",
       "        text-align: right;\n",
       "    }\n",
       "</style>\n",
       "<table border=\"1\" class=\"dataframe\">\n",
       "  <thead>\n",
       "    <tr style=\"text-align: right;\">\n",
       "      <th></th>\n",
       "      <th>qid</th>\n",
       "      <th>level_1</th>\n",
       "      <th>docno</th>\n",
       "      <th>score</th>\n",
       "      <th>q0</th>\n",
       "      <th>run_name</th>\n",
       "      <th>rank</th>\n",
       "    </tr>\n",
       "  </thead>\n",
       "  <tbody>\n",
       "    <tr>\n",
       "      <th>0</th>\n",
       "      <td>1</td>\n",
       "      <td>922</td>\n",
       "      <td>31715818</td>\n",
       "      <td>102.647125</td>\n",
       "      <td>q0</td>\n",
       "      <td>dense</td>\n",
       "      <td>1</td>\n",
       "    </tr>\n",
       "    <tr>\n",
       "      <th>1</th>\n",
       "      <td>1</td>\n",
       "      <td>801</td>\n",
       "      <td>4346436</td>\n",
       "      <td>75.595703</td>\n",
       "      <td>q0</td>\n",
       "      <td>dense</td>\n",
       "      <td>2</td>\n",
       "    </tr>\n",
       "    <tr>\n",
       "      <th>2</th>\n",
       "      <td>1</td>\n",
       "      <td>713</td>\n",
       "      <td>20101846</td>\n",
       "      <td>73.498718</td>\n",
       "      <td>q0</td>\n",
       "      <td>dense</td>\n",
       "      <td>3</td>\n",
       "    </tr>\n",
       "    <tr>\n",
       "      <th>3</th>\n",
       "      <td>1</td>\n",
       "      <td>326</td>\n",
       "      <td>4423327</td>\n",
       "      <td>73.491776</td>\n",
       "      <td>q0</td>\n",
       "      <td>dense</td>\n",
       "      <td>4</td>\n",
       "    </tr>\n",
       "    <tr>\n",
       "      <th>4</th>\n",
       "      <td>1</td>\n",
       "      <td>900</td>\n",
       "      <td>502797</td>\n",
       "      <td>72.541901</td>\n",
       "      <td>q0</td>\n",
       "      <td>dense</td>\n",
       "      <td>5</td>\n",
       "    </tr>\n",
       "  </tbody>\n",
       "</table>\n",
       "</div>"
      ],
      "text/plain": [
       "   qid  level_1     docno       score  q0 run_name  rank\n",
       "0    1      922  31715818  102.647125  q0    dense     1\n",
       "1    1      801   4346436   75.595703  q0    dense     2\n",
       "2    1      713  20101846   73.498718  q0    dense     3\n",
       "3    1      326   4423327   73.491776  q0    dense     4\n",
       "4    1      900    502797   72.541901  q0    dense     5"
      ]
     },
     "execution_count": 2,
     "metadata": {},
     "output_type": "execute_result"
    }
   ],
   "source": [
    "# df_dense = pd.read_csv(\"dense_retrieval_result.csv\", names = [\"qid\",\"docno\",\"score\"], sep = \"\\t\")\n",
    "\n",
    "# def sort_group(group):\n",
    "#     new = group[[\"docno\",\"score\"]].sort_values(by = \"score\", ascending = False)\n",
    "#     new[\"q0\"] = [\"q0\"]*len(group)\n",
    "#     new[\"run_name\"] = [\"dense\"]*len(group)\n",
    "#     new[\"rank\"] = range(1,len(new) + 1)\n",
    "#     return new\n",
    "\n",
    "# df_new = df_dense.groupby(\"qid\").apply(sort_group).reset_index()\n",
    "# df_new.head()"
   ]
  },
  {
   "cell_type": "code",
   "execution_count": 4,
   "metadata": {},
   "outputs": [
    {
     "data": {
      "text/html": [
       "<div>\n",
       "<style scoped>\n",
       "    .dataframe tbody tr th:only-of-type {\n",
       "        vertical-align: middle;\n",
       "    }\n",
       "\n",
       "    .dataframe tbody tr th {\n",
       "        vertical-align: top;\n",
       "    }\n",
       "\n",
       "    .dataframe thead th {\n",
       "        text-align: right;\n",
       "    }\n",
       "</style>\n",
       "<table border=\"1\" class=\"dataframe\">\n",
       "  <thead>\n",
       "    <tr style=\"text-align: right;\">\n",
       "      <th></th>\n",
       "      <th>qid</th>\n",
       "      <th>q0</th>\n",
       "      <th>docno</th>\n",
       "      <th>rank</th>\n",
       "      <th>score</th>\n",
       "      <th>run_name</th>\n",
       "    </tr>\n",
       "  </thead>\n",
       "  <tbody>\n",
       "    <tr>\n",
       "      <th>0</th>\n",
       "      <td>1</td>\n",
       "      <td>q0</td>\n",
       "      <td>31715818</td>\n",
       "      <td>1</td>\n",
       "      <td>102.647125</td>\n",
       "      <td>dense</td>\n",
       "    </tr>\n",
       "    <tr>\n",
       "      <th>1</th>\n",
       "      <td>1</td>\n",
       "      <td>q0</td>\n",
       "      <td>4346436</td>\n",
       "      <td>2</td>\n",
       "      <td>75.595703</td>\n",
       "      <td>dense</td>\n",
       "    </tr>\n",
       "    <tr>\n",
       "      <th>2</th>\n",
       "      <td>1</td>\n",
       "      <td>q0</td>\n",
       "      <td>20101846</td>\n",
       "      <td>3</td>\n",
       "      <td>73.498718</td>\n",
       "      <td>dense</td>\n",
       "    </tr>\n",
       "    <tr>\n",
       "      <th>3</th>\n",
       "      <td>1</td>\n",
       "      <td>q0</td>\n",
       "      <td>4423327</td>\n",
       "      <td>4</td>\n",
       "      <td>73.491776</td>\n",
       "      <td>dense</td>\n",
       "    </tr>\n",
       "    <tr>\n",
       "      <th>4</th>\n",
       "      <td>1</td>\n",
       "      <td>q0</td>\n",
       "      <td>502797</td>\n",
       "      <td>5</td>\n",
       "      <td>72.541901</td>\n",
       "      <td>dense</td>\n",
       "    </tr>\n",
       "  </tbody>\n",
       "</table>\n",
       "</div>"
      ],
      "text/plain": [
       "   qid  q0     docno  rank       score run_name\n",
       "0    1  q0  31715818     1  102.647125    dense\n",
       "1    1  q0   4346436     2   75.595703    dense\n",
       "2    1  q0  20101846     3   73.498718    dense\n",
       "3    1  q0   4423327     4   73.491776    dense\n",
       "4    1  q0    502797     5   72.541901    dense"
      ]
     },
     "execution_count": 4,
     "metadata": {},
     "output_type": "execute_result"
    }
   ],
   "source": [
    "# df_new[[\"qid\",\"q0\",\"docno\",\"rank\",\"score\",\"run_name\"]].to_csv(\"dense_run_scifact.txt\",index = None,header=None, sep = \"\\t\")\n",
    "df_new = pd.read_csv(\"dense_run_scifact.txt\",names=[\"qid\",\"q0\",\"docno\",\"rank\",\"score\",\"run_name\"], sep = \"\\t\")\n",
    "df_new.head()"
   ]
  },
  {
   "cell_type": "code",
   "execution_count": 5,
   "metadata": {},
   "outputs": [
    {
     "name": "stdout",
     "output_type": "stream",
     "text": [
      "Number of documents: 5183\n",
      "Number of terms: 25508\n",
      "Number of postings: 442057\n",
      "Number of fields: 2\n",
      "Number of tokens: 745811\n",
      "Field names: [text, title]\n",
      "Positions:   false\n",
      "\n",
      "      qid     docno  label iteration\n",
      "0       1  31715818      1         0\n",
      "1       3  14717500      1         0\n",
      "2       5  13734012      1         0\n",
      "3      13   1606628      1         0\n",
      "4      36   5152028      1         0\n",
      "..    ...       ...    ...       ...\n",
      "334  1379  17450673      1         0\n",
      "335  1382  17755060      1         0\n",
      "336  1385    306006      1         0\n",
      "337  1389  23895668      1         0\n",
      "338  1395  17717391      1         0\n",
      "\n",
      "[339 rows x 4 columns]\n"
     ]
    }
   ],
   "source": [
    "# 检索\n",
    "index = pt.IndexFactory.of(\n",
    "    \"/projects/futhark1/data/wzm289/code/GAR/gar/indices/beir_scifact\"\n",
    ")\n",
    "print(index.getCollectionStatistics().toString())\n",
    "bm25 = pt.BatchRetrieve(index, wmodel=\"BM25\")\n",
    "train_dataset = pt.get_dataset(\"irds:beir/scifact/train\")\n",
    "train_qrel = train_dataset.get_qrels()\n",
    "# querys = train_dataset.get_topics(\"text\")\n",
    "test_dataset = pt.get_dataset(\"irds:beir/scifact/test\")\n",
    "test_qrel = test_dataset.get_qrels()\n",
    "test_querys = test_dataset.get_topics(\"text\")\n",
    "print(test_qrel)"
   ]
  },
  {
   "cell_type": "code",
   "execution_count": 6,
   "metadata": {},
   "outputs": [
    {
     "data": {
      "text/html": [
       "<div>\n",
       "<style scoped>\n",
       "    .dataframe tbody tr th:only-of-type {\n",
       "        vertical-align: middle;\n",
       "    }\n",
       "\n",
       "    .dataframe tbody tr th {\n",
       "        vertical-align: top;\n",
       "    }\n",
       "\n",
       "    .dataframe thead th {\n",
       "        text-align: right;\n",
       "    }\n",
       "</style>\n",
       "<table border=\"1\" class=\"dataframe\">\n",
       "  <thead>\n",
       "    <tr style=\"text-align: right;\">\n",
       "      <th></th>\n",
       "      <th>query-id</th>\n",
       "      <th>corpus-id</th>\n",
       "      <th>score</th>\n",
       "    </tr>\n",
       "  </thead>\n",
       "  <tbody>\n",
       "    <tr>\n",
       "      <th>0</th>\n",
       "      <td>1</td>\n",
       "      <td>31715818</td>\n",
       "      <td>1</td>\n",
       "    </tr>\n",
       "    <tr>\n",
       "      <th>1</th>\n",
       "      <td>3</td>\n",
       "      <td>14717500</td>\n",
       "      <td>1</td>\n",
       "    </tr>\n",
       "    <tr>\n",
       "      <th>2</th>\n",
       "      <td>5</td>\n",
       "      <td>13734012</td>\n",
       "      <td>1</td>\n",
       "    </tr>\n",
       "    <tr>\n",
       "      <th>3</th>\n",
       "      <td>13</td>\n",
       "      <td>1606628</td>\n",
       "      <td>1</td>\n",
       "    </tr>\n",
       "    <tr>\n",
       "      <th>4</th>\n",
       "      <td>36</td>\n",
       "      <td>5152028</td>\n",
       "      <td>1</td>\n",
       "    </tr>\n",
       "    <tr>\n",
       "      <th>...</th>\n",
       "      <td>...</td>\n",
       "      <td>...</td>\n",
       "      <td>...</td>\n",
       "    </tr>\n",
       "    <tr>\n",
       "      <th>334</th>\n",
       "      <td>1379</td>\n",
       "      <td>17450673</td>\n",
       "      <td>1</td>\n",
       "    </tr>\n",
       "    <tr>\n",
       "      <th>335</th>\n",
       "      <td>1382</td>\n",
       "      <td>17755060</td>\n",
       "      <td>1</td>\n",
       "    </tr>\n",
       "    <tr>\n",
       "      <th>336</th>\n",
       "      <td>1385</td>\n",
       "      <td>306006</td>\n",
       "      <td>1</td>\n",
       "    </tr>\n",
       "    <tr>\n",
       "      <th>337</th>\n",
       "      <td>1389</td>\n",
       "      <td>23895668</td>\n",
       "      <td>1</td>\n",
       "    </tr>\n",
       "    <tr>\n",
       "      <th>338</th>\n",
       "      <td>1395</td>\n",
       "      <td>17717391</td>\n",
       "      <td>1</td>\n",
       "    </tr>\n",
       "  </tbody>\n",
       "</table>\n",
       "<p>339 rows × 3 columns</p>\n",
       "</div>"
      ],
      "text/plain": [
       "    query-id corpus-id  score\n",
       "0          1  31715818      1\n",
       "1          3  14717500      1\n",
       "2          5  13734012      1\n",
       "3         13   1606628      1\n",
       "4         36   5152028      1\n",
       "..       ...       ...    ...\n",
       "334     1379  17450673      1\n",
       "335     1382  17755060      1\n",
       "336     1385    306006      1\n",
       "337     1389  23895668      1\n",
       "338     1395  17717391      1\n",
       "\n",
       "[339 rows x 3 columns]"
      ]
     },
     "execution_count": 6,
     "metadata": {},
     "output_type": "execute_result"
    }
   ],
   "source": [
    "test_qrel = pd.read_csv(\"../scifact/qrels/test.tsv\",sep = \"\\t\")\n",
    "test_qrel = test_qrel.astype({\"score\": \"int32\",\"query-id\":str,\"corpus-id\":str})\n",
    "test_qrel"
   ]
  },
  {
   "cell_type": "code",
   "execution_count": 20,
   "metadata": {},
   "outputs": [
    {
     "name": "stdout",
     "output_type": "stream",
     "text": [
      "ndcg_cut_10 \t 0.7278507119908757\n",
      "map \t 0.7057529284388354\n"
     ]
    }
   ],
   "source": [
    "\n",
    "\n",
    "def evaluation(path):\n",
    "    # if stu_id == 'mlg109':\n",
    "    #     return\n",
    "    # Load run\n",
    "    try:\n",
    "\n",
    "        with open(path, \"r\") as f_run:\n",
    "            tf_run = pytrec_eval.parse_run(f_run)\n",
    "        qrels_dict = dict()\n",
    "        for _, r in test_qrel.iterrows():\n",
    "            qid, docno, label = r\n",
    "            if qid not in qrels_dict:\n",
    "                qrels_dict[qid] = dict()\n",
    "            qrels_dict[qid][docno] = int(label)\n",
    "\n",
    "        metrics = {\"map\", \"ndcg_cut_10\"}\n",
    "        evaluator = pytrec_eval.RelevanceEvaluator(qrels_dict, metrics)\n",
    "\n",
    "        # test\n",
    "        tf_evals = evaluator.evaluate(tf_run)\n",
    "        tf_metric2vals = {m: [] for m in metrics}\n",
    "        for q, d in tf_evals.items():\n",
    "            for m, val in d.items():\n",
    "                tf_metric2vals[m].append(val)\n",
    "        \n",
    "        for m in metrics:\n",
    "            score = pytrec_eval.compute_aggregated_measure(m, tf_metric2vals[m])\n",
    "            print(m, \"\\t\", score)\n",
    "\n",
    "        # fout.write(\",\".join(write_list) + \"\\n\")\n",
    "        # fout.flush()\n",
    "        return tf_evals.keys(), tf_metric2vals['map'],tf_metric2vals['ndcg_cut_10']\n",
    "    except Exception as e:\n",
    "        print(e)\n",
    "qid_list,map_list_dense, ndcg_list_dense = evaluation(\"dense_run_scifact.txt\")"
   ]
  },
  {
   "attachments": {},
   "cell_type": "markdown",
   "metadata": {},
   "source": [
    "# Fusion\n",
    "\n"
   ]
  },
  {
   "cell_type": "code",
   "execution_count": 9,
   "metadata": {},
   "outputs": [],
   "source": [
    "top = 10\n",
    "dense_retrieval = df_new[[\"qid\",\"q0\",\"docno\",\"rank\",\"score\",\"run_name\"]]\n",
    "dense_retrieval = dense_retrieval.groupby(\"qid\").head(top).reset_index()\n",
    "\n",
    "ndcg_reward = pd.read_csv(\"/projects/futhark1/data/wzm289/code/trl/result_run/ndcg_cut_10_run.txt\",names = [\"qid\",\"q0\",\"docno\",\"rank\",\"score\",\"run_name\"],sep = \"\\t\")\n",
    "ndcg_reward = ndcg_reward.groupby(\"qid\").head(top).reset_index()"
   ]
  },
  {
   "cell_type": "code",
   "execution_count": 10,
   "metadata": {},
   "outputs": [],
   "source": [
    "concat_df = pd.concat([dense_retrieval,ndcg_reward]).sort_index(kind=\"mergesort\").reset_index(drop=True)"
   ]
  },
  {
   "cell_type": "code",
   "execution_count": 11,
   "metadata": {},
   "outputs": [
    {
     "data": {
      "text/html": [
       "<div>\n",
       "<style scoped>\n",
       "    .dataframe tbody tr th:only-of-type {\n",
       "        vertical-align: middle;\n",
       "    }\n",
       "\n",
       "    .dataframe tbody tr th {\n",
       "        vertical-align: top;\n",
       "    }\n",
       "\n",
       "    .dataframe thead th {\n",
       "        text-align: right;\n",
       "    }\n",
       "</style>\n",
       "<table border=\"1\" class=\"dataframe\">\n",
       "  <thead>\n",
       "    <tr style=\"text-align: right;\">\n",
       "      <th></th>\n",
       "      <th>qid</th>\n",
       "      <th>level_1</th>\n",
       "      <th>docno</th>\n",
       "      <th>Q0</th>\n",
       "      <th>score</th>\n",
       "      <th>tag</th>\n",
       "    </tr>\n",
       "  </thead>\n",
       "  <tbody>\n",
       "    <tr>\n",
       "      <th>0</th>\n",
       "      <td>1</td>\n",
       "      <td>0</td>\n",
       "      <td>31715818</td>\n",
       "      <td>Q0</td>\n",
       "      <td>17</td>\n",
       "      <td>Anserini</td>\n",
       "    </tr>\n",
       "    <tr>\n",
       "      <th>1</th>\n",
       "      <td>1</td>\n",
       "      <td>1</td>\n",
       "      <td>4346436</td>\n",
       "      <td>Q0</td>\n",
       "      <td>16</td>\n",
       "      <td>Anserini</td>\n",
       "    </tr>\n",
       "    <tr>\n",
       "      <th>2</th>\n",
       "      <td>1</td>\n",
       "      <td>2</td>\n",
       "      <td>21456232</td>\n",
       "      <td>Q0</td>\n",
       "      <td>15</td>\n",
       "      <td>Anserini</td>\n",
       "    </tr>\n",
       "    <tr>\n",
       "      <th>3</th>\n",
       "      <td>1</td>\n",
       "      <td>3</td>\n",
       "      <td>20101846</td>\n",
       "      <td>Q0</td>\n",
       "      <td>14</td>\n",
       "      <td>Anserini</td>\n",
       "    </tr>\n",
       "    <tr>\n",
       "      <th>4</th>\n",
       "      <td>1</td>\n",
       "      <td>4</td>\n",
       "      <td>3770726</td>\n",
       "      <td>Q0</td>\n",
       "      <td>13</td>\n",
       "      <td>Anserini</td>\n",
       "    </tr>\n",
       "    <tr>\n",
       "      <th>...</th>\n",
       "      <td>...</td>\n",
       "      <td>...</td>\n",
       "      <td>...</td>\n",
       "      <td>...</td>\n",
       "      <td>...</td>\n",
       "      <td>...</td>\n",
       "    </tr>\n",
       "    <tr>\n",
       "      <th>5327</th>\n",
       "      <td>1395</td>\n",
       "      <td>12</td>\n",
       "      <td>40349336</td>\n",
       "      <td>Q0</td>\n",
       "      <td>4</td>\n",
       "      <td>Anserini</td>\n",
       "    </tr>\n",
       "    <tr>\n",
       "      <th>5328</th>\n",
       "      <td>1395</td>\n",
       "      <td>13</td>\n",
       "      <td>46617075</td>\n",
       "      <td>Q0</td>\n",
       "      <td>3</td>\n",
       "      <td>Anserini</td>\n",
       "    </tr>\n",
       "    <tr>\n",
       "      <th>5329</th>\n",
       "      <td>1395</td>\n",
       "      <td>14</td>\n",
       "      <td>24347647</td>\n",
       "      <td>Q0</td>\n",
       "      <td>2</td>\n",
       "      <td>Anserini</td>\n",
       "    </tr>\n",
       "    <tr>\n",
       "      <th>5330</th>\n",
       "      <td>1395</td>\n",
       "      <td>15</td>\n",
       "      <td>31293581</td>\n",
       "      <td>Q0</td>\n",
       "      <td>1</td>\n",
       "      <td>Anserini</td>\n",
       "    </tr>\n",
       "    <tr>\n",
       "      <th>5331</th>\n",
       "      <td>1395</td>\n",
       "      <td>16</td>\n",
       "      <td>24790460</td>\n",
       "      <td>Q0</td>\n",
       "      <td>0</td>\n",
       "      <td>Anserini</td>\n",
       "    </tr>\n",
       "  </tbody>\n",
       "</table>\n",
       "<p>5332 rows × 6 columns</p>\n",
       "</div>"
      ],
      "text/plain": [
       "       qid  level_1     docno  Q0  score       tag\n",
       "0        1        0  31715818  Q0     17  Anserini\n",
       "1        1        1   4346436  Q0     16  Anserini\n",
       "2        1        2  21456232  Q0     15  Anserini\n",
       "3        1        3  20101846  Q0     14  Anserini\n",
       "4        1        4   3770726  Q0     13  Anserini\n",
       "...    ...      ...       ...  ..    ...       ...\n",
       "5327  1395       12  40349336  Q0      4  Anserini\n",
       "5328  1395       13  46617075  Q0      3  Anserini\n",
       "5329  1395       14  24347647  Q0      2  Anserini\n",
       "5330  1395       15  31293581  Q0      1  Anserini\n",
       "5331  1395       16  24790460  Q0      0  Anserini\n",
       "\n",
       "[5332 rows x 6 columns]"
      ]
     },
     "execution_count": 11,
     "metadata": {},
     "output_type": "execute_result"
    }
   ],
   "source": [
    "def unique_passage(group):\n",
    "    docno = group[\"docno\"].unique()\n",
    "\n",
    "    return pd.DataFrame(\n",
    "        {\n",
    "            \"docno\": docno,\n",
    "            \"Q0\": [\"Q0\"] * len(docno),\n",
    "            \"score\": list(range(len(docno)))[::-1],\n",
    "            \"tag\": [\"Anserini\"] * len(docno),\n",
    "        }\n",
    "    )\n",
    "\n",
    "concat_df = concat_df.groupby([\"qid\"]).apply(unique_passage).reset_index()\n",
    "\n",
    "concat_df"
   ]
  },
  {
   "cell_type": "code",
   "execution_count": 53,
   "metadata": {},
   "outputs": [],
   "source": [
    "concat_df[[\"qid\", \"Q0\", \"docno\", \"level_1\", \"score\", \"tag\"]].to_csv(\"fusion_ndcg.txt\",sep = \"\\t\",index = None, header = None)"
   ]
  },
  {
   "cell_type": "code",
   "execution_count": 22,
   "metadata": {},
   "outputs": [
    {
     "name": "stdout",
     "output_type": "stream",
     "text": [
      "ndcg_cut_10 \t 0.7858617247063453\n",
      "map \t 0.744321164946165\n"
     ]
    }
   ],
   "source": [
    "qids, map_list_fusion, ndcg_list_fusion = evaluation(\"fusion_ndcg.txt\")"
   ]
  },
  {
   "attachments": {},
   "cell_type": "markdown",
   "metadata": {},
   "source": [
    "# TT test"
   ]
  },
  {
   "cell_type": "code",
   "execution_count": 16,
   "metadata": {},
   "outputs": [
    {
     "name": "stdout",
     "output_type": "stream",
     "text": [
      "Ttest_relResult(statistic=-4.476532971994697, pvalue=1.0801550824887567e-05)\n"
     ]
    }
   ],
   "source": [
    "import scipy.stats\n",
    "print(scipy.stats.ttest_rel(map_list_dense, map_list_fusion))"
   ]
  },
  {
   "cell_type": "code",
   "execution_count": 17,
   "metadata": {},
   "outputs": [
    {
     "name": "stdout",
     "output_type": "stream",
     "text": [
      "Ttest_relResult(statistic=-5.271280406017071, pvalue=2.6001216003136786e-07)\n"
     ]
    }
   ],
   "source": [
    "print(scipy.stats.ttest_rel(ndcg_list_dense, ndcg_list_fusion))"
   ]
  },
  {
   "cell_type": "code",
   "execution_count": 24,
   "metadata": {},
   "outputs": [
    {
     "name": "stdout",
     "output_type": "stream",
     "text": [
      "WilcoxonResult(statistic=1656.5, pvalue=0.002820618820028983)\n"
     ]
    }
   ],
   "source": [
    "print(scipy.stats.wilcoxon(map_list_dense, map_list_fusion))"
   ]
  },
  {
   "cell_type": "code",
   "execution_count": null,
   "metadata": {},
   "outputs": [],
   "source": []
  }
 ],
 "metadata": {
  "kernelspec": {
   "display_name": "ACL",
   "language": "python",
   "name": "python3"
  },
  "language_info": {
   "codemirror_mode": {
    "name": "ipython",
    "version": 3
   },
   "file_extension": ".py",
   "mimetype": "text/x-python",
   "name": "python",
   "nbconvert_exporter": "python",
   "pygments_lexer": "ipython3",
   "version": "3.8.15 (default, Nov 24 2022, 15:19:38) \n[GCC 11.2.0]"
  },
  "orig_nbformat": 4,
  "vscode": {
   "interpreter": {
    "hash": "8d0e3ecb0baebba56a7f46a8b4a51e9efd4d37834ea1e239c938a302ce08aa9c"
   }
  }
 },
 "nbformat": 4,
 "nbformat_minor": 2
}
